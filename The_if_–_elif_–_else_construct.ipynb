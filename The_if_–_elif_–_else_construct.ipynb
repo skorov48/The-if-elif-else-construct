{
  "nbformat": 4,
  "nbformat_minor": 0,
  "metadata": {
    "colab": {
      "provenance": [],
      "name": "The if – elif – else construct.ipynb",
      "authorship_tag": "ABX9TyN3jMEwlWZGAg50KTI1jtc4",
      "include_colab_link": true
    },
    "kernelspec": {
      "name": "python3",
      "display_name": "Python 3"
    },
    "language_info": {
      "name": "python"
    }
  },
  "cells": [
    {
      "cell_type": "markdown",
      "metadata": {
        "id": "view-in-github",
        "colab_type": "text"
      },
      "source": [
        "<a href=\"https://colab.research.google.com/github/skorov48/The-if-elif-else-construct/blob/main/The_if_%E2%80%93_elif_%E2%80%93_else_construct.ipynb\" target=\"_parent\"><img src=\"https://colab.research.google.com/assets/colab-badge.svg\" alt=\"Open In Colab\"/></a>"
      ]
    },
    {
      "cell_type": "markdown",
      "source": [
        "# Конструкция if – elif – else"
      ],
      "metadata": {
        "id": "V3_xxM74lZiK"
      }
    },
    {
      "cell_type": "markdown",
      "source": [
        "Рассчитайте процентную ставку для вклада в зависимости от суммы и срока вклада"
      ],
      "metadata": {
        "id": "S8sqr1exj-lY"
      }
    },
    {
      "cell_type": "code",
      "execution_count": null,
      "metadata": {
        "colab": {
          "base_uri": "https://localhost:8080/"
        },
        "id": "8ojvxkq8j636",
        "outputId": "1237bd25-1dba-4267-af82-9c181e15d2bc"
      },
      "outputs": [
        {
          "output_type": "stream",
          "name": "stdout",
          "text": [
            "Процентная ставка: 2.0%\n"
          ]
        }
      ],
      "source": [
        "def calculate_interest_rate(deposit_amount, deposit_term):\n",
        "    if deposit_amount < 1000:\n",
        "        return 1.5  # Процентная ставка 1.5% для суммы менее 1000\n",
        "    elif 1000 <= deposit_amount < 5000:\n",
        "        return 2.0  # Процентная ставка 2% для суммы от 1000 до 5000\n",
        "    else:\n",
        "        if deposit_term < 6:\n",
        "            return 2.5  # Процентная ставка 2.5% для больших сумм и срока менее 6 месяцев\n",
        "        else:\n",
        "            return 3.0  # Процентная ставка 3% для больших сумм и срока более 6 месяцев\n",
        "\n",
        "# Пример использования\n",
        "amount = 2000\n",
        "term = 12\n",
        "interest_rate = calculate_interest_rate(amount, term)\n",
        "print(f\"Процентная ставка: {interest_rate}%\")"
      ]
    },
    {
      "cell_type": "markdown",
      "source": [
        "Проверка наличия денежных средств на счете"
      ],
      "metadata": {
        "id": "uDf6gxuqkAQI"
      }
    },
    {
      "cell_type": "code",
      "source": [
        "def check_balance(balance):\n",
        "    if balance <= 0:\n",
        "        return \"Недостаточно средств на счете.\"\n",
        "    else:\n",
        "        return \"Средства на счете достаточны.\"\n",
        "\n",
        "# Пример использования\n",
        "balance_amount = 100\n",
        "print(check_balance(balance_amount))"
      ],
      "metadata": {
        "colab": {
          "base_uri": "https://localhost:8080/"
        },
        "id": "XlDSdawBkAeC",
        "outputId": "aa35c5a3-74b8-437d-fc41-2c368c9f7f90"
      },
      "execution_count": null,
      "outputs": [
        {
          "output_type": "stream",
          "name": "stdout",
          "text": [
            "Средства на счете достаточны.\n"
          ]
        }
      ]
    },
    {
      "cell_type": "markdown",
      "source": [
        "Расчет процентной ставки для вклада или кредита"
      ],
      "metadata": {
        "id": "hhoNjNwtkAqc"
      }
    },
    {
      "cell_type": "code",
      "source": [
        "def calculate_rate(is_deposit, amount):\n",
        "    if is_deposit:\n",
        "        return calculate_interest_rate(amount, 12)  # Стандартный срок 12 месяцев для вклада\n",
        "    else:\n",
        "        return 5.0  # Процентная ставка 5% для кредита\n",
        "\n",
        "# Пример использования\n",
        "is_deposit = True\n",
        "amount = 3000\n",
        "rate = calculate_rate(is_deposit, amount)\n",
        "print(f\"Процентная ставка: {rate}%\")"
      ],
      "metadata": {
        "colab": {
          "base_uri": "https://localhost:8080/"
        },
        "id": "d1uFPtB-kAxJ",
        "outputId": "a77bb142-16ef-433b-ab43-123bca6e7ad5"
      },
      "execution_count": null,
      "outputs": [
        {
          "output_type": "stream",
          "name": "stdout",
          "text": [
            "Процентная ставка: 2.0%\n"
          ]
        }
      ]
    },
    {
      "cell_type": "markdown",
      "source": [
        "Расчет ежемесячного платежа по кредиту (по формуле аннуитета)"
      ],
      "metadata": {
        "id": "gNqigLmgkA4g"
      }
    },
    {
      "cell_type": "code",
      "source": [
        "def calculate_monthly_payment(loan_amount, annual_rate, years):\n",
        "    monthly_rate = annual_rate / 100 / 12\n",
        "    number_of_payments = years * 12\n",
        "    payment = loan_amount * (monthly_rate * (1 + monthly_rate) ** number_of_payments) / ((1 + monthly_rate) ** number_of_payments - 1)\n",
        "    return payment\n",
        "\n",
        "# Пример использования\n",
        "loan = 5000\n",
        "annual_interest_rate = 6\n",
        "term_years = 2\n",
        "monthly_payment = calculate_monthly_payment(loan, annual_interest_rate, term_years)\n",
        "print(f\"Ежемесячный платеж: {monthly_payment:.2f} руб.\")"
      ],
      "metadata": {
        "colab": {
          "base_uri": "https://localhost:8080/"
        },
        "id": "nXGS27I-kA9-",
        "outputId": "0b63e6b3-bbef-4fd3-9c03-49939b075712"
      },
      "execution_count": null,
      "outputs": [
        {
          "output_type": "stream",
          "name": "stdout",
          "text": [
            "Ежемесячный платеж: 221.60 руб.\n"
          ]
        }
      ]
    },
    {
      "cell_type": "markdown",
      "source": [
        " Расчет доходности инвестиций"
      ],
      "metadata": {
        "id": "tQm89aUKkBFU"
      }
    },
    {
      "cell_type": "code",
      "source": [
        "def calculate_investment_return(initial_investment, annual_rate, years):\n",
        "    return initial_investment * ((1 + annual_rate / 100) ** years)\n",
        "\n",
        "# Пример использования\n",
        "investment = 10000\n",
        "rate = 8\n",
        "years = 5\n",
        "total_return = calculate_investment_return(investment, rate, years)\n",
        "print(f\"Итоговая сумма через {years} года: {total_return:.2f} руб.\")"
      ],
      "metadata": {
        "colab": {
          "base_uri": "https://localhost:8080/"
        },
        "id": "-hHZTHhhkBKu",
        "outputId": "6e27de7c-b281-459b-bde7-fbf464406bae"
      },
      "execution_count": null,
      "outputs": [
        {
          "output_type": "stream",
          "name": "stdout",
          "text": [
            "Итоговая сумма через 5 года: 14693.28 руб.\n"
          ]
        }
      ]
    },
    {
      "cell_type": "markdown",
      "source": [
        "# Циклы - for и while в решении финансовых задач"
      ],
      "metadata": {
        "id": "Y4HihSnZkrCw"
      }
    },
    {
      "cell_type": "markdown",
      "source": [
        "Рассчитать проценты на сумму вклада. Решение с помощью цикла for."
      ],
      "metadata": {
        "id": "rR8B1bBfkBSJ"
      }
    },
    {
      "cell_type": "code",
      "source": [
        "def calculate_interest_for(deposit_amount, rate, years):\n",
        "    total_amount = deposit_amount\n",
        "    for year in range(years):\n",
        "        total_amount += total_amount * (rate / 100)\n",
        "    return total_amount\n",
        "\n",
        "# Пример использования\n",
        "amount = 1000\n",
        "interest_rate = 5\n",
        "duration = 3\n",
        "final_amount = calculate_interest_for(amount, interest_rate, duration)\n",
        "print(f\"Сумма после {duration} лет: {final_amount:.2f} руб.\")"
      ],
      "metadata": {
        "colab": {
          "base_uri": "https://localhost:8080/"
        },
        "id": "tKhl13W4kBX6",
        "outputId": "5d69db19-97c2-417e-f6a9-45a50078a3d9"
      },
      "execution_count": null,
      "outputs": [
        {
          "output_type": "stream",
          "name": "stdout",
          "text": [
            "Сумма после 3 лет: 1157.62 руб.\n"
          ]
        }
      ]
    },
    {
      "cell_type": "markdown",
      "source": [
        " Рассчитать проценты на сумму вклада. Решение с помощью цикла while."
      ],
      "metadata": {
        "id": "W88gFvSckBeh"
      }
    },
    {
      "cell_type": "code",
      "source": [
        "def calculate_interest_while(deposit_amount, rate, years):\n",
        "    total_amount = deposit_amount\n",
        "    count = 0\n",
        "    while count < years:\n",
        "        total_amount += total_amount * (rate / 100)\n",
        "        count += 1\n",
        "    return total_amount\n",
        "\n",
        "# Пример использования\n",
        "final_amount_while = calculate_interest_while(amount, interest_rate, duration)\n",
        "print(f\"Сумма после {duration} лет (while): {final_amount_while:.2f} руб.\")"
      ],
      "metadata": {
        "colab": {
          "base_uri": "https://localhost:8080/"
        },
        "id": "-zk8AxNFkBkc",
        "outputId": "dc730da0-7f79-4e17-eab6-5e1214121f8d"
      },
      "execution_count": null,
      "outputs": [
        {
          "output_type": "stream",
          "name": "stdout",
          "text": [
            "Сумма после 3 лет (while): 1157.62 руб.\n"
          ]
        }
      ]
    },
    {
      "cell_type": "markdown",
      "source": [
        "Рассчитать сумму выплат по кредиту. Решение с помощью цикла for."
      ],
      "metadata": {
        "id": "oPWLVBnvkBqh"
      }
    },
    {
      "cell_type": "code",
      "source": [
        "def calculate_total_loan_payment(loan_amount, annual_rate, years):\n",
        "    monthly_payment = calculate_monthly_payment(loan_amount, annual_rate, years)\n",
        "    total_payment = 0\n",
        "    for _ in range(years * 12):\n",
        "        total_payment += monthly_payment\n",
        "    return total_payment\n",
        "\n",
        "# Пример использования\n",
        "total_payment = calculate_total_loan_payment(loan, annual_interest_rate, term_years)\n",
        "print(f\"Общая сумма выплат по кредиту: {total_payment:.2f} руб.\")"
      ],
      "metadata": {
        "colab": {
          "base_uri": "https://localhost:8080/"
        },
        "id": "6Vro6VZ0kBvr",
        "outputId": "3c3efbbe-0b36-405c-ebf9-e287478bab57"
      },
      "execution_count": null,
      "outputs": [
        {
          "output_type": "stream",
          "name": "stdout",
          "text": [
            "Общая сумма выплат по кредиту: 5318.47 руб.\n"
          ]
        }
      ]
    },
    {
      "cell_type": "markdown",
      "source": [
        "Рассчитать ежемесячные платежи по кредиту. Решение с помощью цикла for."
      ],
      "metadata": {
        "id": "6ChtrKgXkB25"
      }
    },
    {
      "cell_type": "code",
      "source": [
        "def calculate_monthly_payments_for(loan_amount, annual_rate, years):\n",
        "    monthly_payment = calculate_monthly_payment(loan_amount, annual_rate, years)\n",
        "    payments = []\n",
        "    for month in range(1, years * 12 + 1):\n",
        "        payments.append(monthly_payment)\n",
        "    return payments\n",
        "\n",
        "# Пример использования\n",
        "payments_for = calculate_monthly_payments_for(loan, annual_interest_rate, term_years)\n",
        "print(\"Ежемесячные платежи (for):\", payments_for)"
      ],
      "metadata": {
        "colab": {
          "base_uri": "https://localhost:8080/"
        },
        "id": "7PeVPs80kB7s",
        "outputId": "05b2f0af-c7b5-4598-dae7-84260de187e6"
      },
      "execution_count": null,
      "outputs": [
        {
          "output_type": "stream",
          "name": "stdout",
          "text": [
            "Ежемесячные платежи (for): [221.60305126378893, 221.60305126378893, 221.60305126378893, 221.60305126378893, 221.60305126378893, 221.60305126378893, 221.60305126378893, 221.60305126378893, 221.60305126378893, 221.60305126378893, 221.60305126378893, 221.60305126378893, 221.60305126378893, 221.60305126378893, 221.60305126378893, 221.60305126378893, 221.60305126378893, 221.60305126378893, 221.60305126378893, 221.60305126378893, 221.60305126378893, 221.60305126378893, 221.60305126378893, 221.60305126378893]\n"
          ]
        }
      ]
    },
    {
      "cell_type": "markdown",
      "source": [
        "Рассчитать ежемесячные платежи по кредиту. Решение с помощью цикла while."
      ],
      "metadata": {
        "id": "DstzyujbkCCb"
      }
    },
    {
      "cell_type": "code",
      "source": [
        "def calculate_monthly_payments_while(loan_amount, annual_rate, years):\n",
        "    monthly_payment = calculate_monthly_payment(loan_amount, annual_rate, years)\n",
        "    payments = []\n",
        "    month = 1\n",
        "    while month <= years * 12:\n",
        "        payments.append(monthly_payment)\n",
        "        month += 1\n",
        "    return payments\n",
        "\n",
        "# Пример использования\n",
        "payments_while = calculate_monthly_payments_while(loan, annual_interest_rate, term_years)\n",
        "print(\"Ежемесячные платежи (while):\", payments_while)"
      ],
      "metadata": {
        "colab": {
          "base_uri": "https://localhost:8080/"
        },
        "id": "qDfWOHbZkCGo",
        "outputId": "22834be6-b0ed-4b91-ad8e-c16bb5409655"
      },
      "execution_count": null,
      "outputs": [
        {
          "output_type": "stream",
          "name": "stdout",
          "text": [
            "Ежемесячные платежи (while): [221.60305126378893, 221.60305126378893, 221.60305126378893, 221.60305126378893, 221.60305126378893, 221.60305126378893, 221.60305126378893, 221.60305126378893, 221.60305126378893, 221.60305126378893, 221.60305126378893, 221.60305126378893, 221.60305126378893, 221.60305126378893, 221.60305126378893, 221.60305126378893, 221.60305126378893, 221.60305126378893, 221.60305126378893, 221.60305126378893, 221.60305126378893, 221.60305126378893, 221.60305126378893, 221.60305126378893]\n"
          ]
        }
      ]
    }
  ]
}